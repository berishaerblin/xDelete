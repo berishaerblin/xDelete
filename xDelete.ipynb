{
 "cells": [
  {
   "cell_type": "code",
   "execution_count": 2,
   "id": "d7d3935e-9d8f-4e05-8bfd-7f161eb8b4c6",
   "metadata": {
    "pycharm": {
     "name": "#%%\n"
    }
   },
   "outputs": [
    {
     "name": "stdout",
     "output_type": "stream",
     "text": [
      "Collecting opencv-python\n",
      "  Downloading opencv_python-4.6.0.66-cp36-abi3-macosx_10_15_x86_64.whl (46.4 MB)\n",
      "\u001B[K     |████████████████████████████████| 46.4 MB 684 kB/s eta 0:00:01     |██████████                      | 14.4 MB 286 kB/s eta 0:01:52     |████████████                    | 17.4 MB 547 kB/s eta 0:00:53\n",
      "\u001B[?25hRequirement already satisfied: numpy>=1.14.5 in /opt/anaconda3/lib/python3.9/site-packages (from opencv-python) (1.20.3)\n",
      "Installing collected packages: opencv-python\n",
      "Successfully installed opencv-python-4.6.0.66\n",
      "Note: you may need to restart the kernel to use updated packages.\n"
     ]
    }
   ],
   "source": [
    "pip install opencv-python"
   ]
  },
  {
   "cell_type": "code",
   "execution_count": 3,
   "id": "cbf4da22-3385-4988-8d88-1e94244df82f",
   "metadata": {
    "pycharm": {
     "name": "#%%\n"
    }
   },
   "outputs": [
    {
     "name": "stdout",
     "output_type": "stream",
     "text": [
      "Collecting dlib\n",
      "  Downloading dlib-19.24.0.tar.gz (3.2 MB)\n",
      "\u001B[K     |████████████████████████████████| 3.2 MB 1.1 MB/s eta 0:00:01\n",
      "\u001B[?25hBuilding wheels for collected packages: dlib\n",
      "  Building wheel for dlib (setup.py) ... \u001B[?25lerror\n",
      "\u001B[31m  ERROR: Command errored out with exit status 1:\n",
      "   command: /opt/anaconda3/bin/python -u -c 'import io, os, sys, setuptools, tokenize; sys.argv[0] = '\"'\"'/private/var/folders/c5/wfrhzkhj1lnd3fzsc173k6qh0000gn/T/pip-install-eyxsb3uk/dlib_df8e81f128bd468782adb616a9a0bbf0/setup.py'\"'\"'; __file__='\"'\"'/private/var/folders/c5/wfrhzkhj1lnd3fzsc173k6qh0000gn/T/pip-install-eyxsb3uk/dlib_df8e81f128bd468782adb616a9a0bbf0/setup.py'\"'\"';f = getattr(tokenize, '\"'\"'open'\"'\"', open)(__file__) if os.path.exists(__file__) else io.StringIO('\"'\"'from setuptools import setup; setup()'\"'\"');code = f.read().replace('\"'\"'\\r\\n'\"'\"', '\"'\"'\\n'\"'\"');f.close();exec(compile(code, __file__, '\"'\"'exec'\"'\"'))' bdist_wheel -d /private/var/folders/c5/wfrhzkhj1lnd3fzsc173k6qh0000gn/T/pip-wheel-gwcz4gjr\n",
      "       cwd: /private/var/folders/c5/wfrhzkhj1lnd3fzsc173k6qh0000gn/T/pip-install-eyxsb3uk/dlib_df8e81f128bd468782adb616a9a0bbf0/\n",
      "  Complete output (8 lines):\n",
      "  running bdist_wheel\n",
      "  running build\n",
      "  running build_py\n",
      "  package init file 'tools/python/dlib/__init__.py' not found (or not a regular file)\n",
      "  running build_ext\n",
      "  \n",
      "  ERROR: CMake must be installed to build dlib\n",
      "  \n",
      "  ----------------------------------------\u001B[0m\n",
      "\u001B[31m  ERROR: Failed building wheel for dlib\u001B[0m\n",
      "\u001B[?25h  Running setup.py clean for dlib\n",
      "Failed to build dlib\n",
      "Installing collected packages: dlib\n",
      "    Running setup.py install for dlib ... \u001B[?25lerror\n",
      "\u001B[31m    ERROR: Command errored out with exit status 1:\n",
      "     command: /opt/anaconda3/bin/python -u -c 'import io, os, sys, setuptools, tokenize; sys.argv[0] = '\"'\"'/private/var/folders/c5/wfrhzkhj1lnd3fzsc173k6qh0000gn/T/pip-install-eyxsb3uk/dlib_df8e81f128bd468782adb616a9a0bbf0/setup.py'\"'\"'; __file__='\"'\"'/private/var/folders/c5/wfrhzkhj1lnd3fzsc173k6qh0000gn/T/pip-install-eyxsb3uk/dlib_df8e81f128bd468782adb616a9a0bbf0/setup.py'\"'\"';f = getattr(tokenize, '\"'\"'open'\"'\"', open)(__file__) if os.path.exists(__file__) else io.StringIO('\"'\"'from setuptools import setup; setup()'\"'\"');code = f.read().replace('\"'\"'\\r\\n'\"'\"', '\"'\"'\\n'\"'\"');f.close();exec(compile(code, __file__, '\"'\"'exec'\"'\"'))' install --record /private/var/folders/c5/wfrhzkhj1lnd3fzsc173k6qh0000gn/T/pip-record-oc0g7sy6/install-record.txt --single-version-externally-managed --compile --install-headers /opt/anaconda3/include/python3.9/dlib\n",
      "         cwd: /private/var/folders/c5/wfrhzkhj1lnd3fzsc173k6qh0000gn/T/pip-install-eyxsb3uk/dlib_df8e81f128bd468782adb616a9a0bbf0/\n",
      "    Complete output (8 lines):\n",
      "    running install\n",
      "    running build\n",
      "    running build_py\n",
      "    package init file 'tools/python/dlib/__init__.py' not found (or not a regular file)\n",
      "    running build_ext\n",
      "    \n",
      "    ERROR: CMake must be installed to build dlib\n",
      "    \n",
      "    ----------------------------------------\u001B[0m\n",
      "\u001B[31mERROR: Command errored out with exit status 1: /opt/anaconda3/bin/python -u -c 'import io, os, sys, setuptools, tokenize; sys.argv[0] = '\"'\"'/private/var/folders/c5/wfrhzkhj1lnd3fzsc173k6qh0000gn/T/pip-install-eyxsb3uk/dlib_df8e81f128bd468782adb616a9a0bbf0/setup.py'\"'\"'; __file__='\"'\"'/private/var/folders/c5/wfrhzkhj1lnd3fzsc173k6qh0000gn/T/pip-install-eyxsb3uk/dlib_df8e81f128bd468782adb616a9a0bbf0/setup.py'\"'\"';f = getattr(tokenize, '\"'\"'open'\"'\"', open)(__file__) if os.path.exists(__file__) else io.StringIO('\"'\"'from setuptools import setup; setup()'\"'\"');code = f.read().replace('\"'\"'\\r\\n'\"'\"', '\"'\"'\\n'\"'\"');f.close();exec(compile(code, __file__, '\"'\"'exec'\"'\"'))' install --record /private/var/folders/c5/wfrhzkhj1lnd3fzsc173k6qh0000gn/T/pip-record-oc0g7sy6/install-record.txt --single-version-externally-managed --compile --install-headers /opt/anaconda3/include/python3.9/dlib Check the logs for full command output.\u001B[0m\n",
      "\u001B[?25hNote: you may need to restart the kernel to use updated packages.\n"
     ]
    }
   ],
   "source": [
    "pip install dlib"
   ]
  },
  {
   "cell_type": "code",
   "execution_count": 4,
   "id": "b67ddca8-cc2a-46c7-bc57-899e44d086bc",
   "metadata": {
    "pycharm": {
     "name": "#%%\n"
    }
   },
   "outputs": [
    {
     "name": "stdout",
     "output_type": "stream",
     "text": [
      "Collecting face_recognition\n",
      "  Downloading face_recognition-1.3.0-py2.py3-none-any.whl (15 kB)\n",
      "Collecting dlib>=19.7\n",
      "  Using cached dlib-19.24.0.tar.gz (3.2 MB)\n",
      "Requirement already satisfied: numpy in /opt/anaconda3/lib/python3.9/site-packages (from face_recognition) (1.20.3)\n",
      "Requirement already satisfied: Pillow in /opt/anaconda3/lib/python3.9/site-packages (from face_recognition) (8.4.0)\n",
      "Requirement already satisfied: Click>=6.0 in /opt/anaconda3/lib/python3.9/site-packages (from face_recognition) (8.0.3)\n",
      "Collecting face-recognition-models>=0.3.0\n",
      "  Downloading face_recognition_models-0.3.0.tar.gz (100.1 MB)\n",
      "\u001B[K     |████████████████████████████████| 100.1 MB 11.6 MB/s eta 0:00:01   |████████████████▉               | 52.7 MB 8.4 MB/s eta 0:00:06\n",
      "\u001B[?25hBuilding wheels for collected packages: dlib, face-recognition-models\n",
      "  Building wheel for dlib (setup.py) ... \u001B[?25lerror\n",
      "\u001B[31m  ERROR: Command errored out with exit status 1:\n",
      "   command: /opt/anaconda3/bin/python -u -c 'import io, os, sys, setuptools, tokenize; sys.argv[0] = '\"'\"'/private/var/folders/c5/wfrhzkhj1lnd3fzsc173k6qh0000gn/T/pip-install-a8h_boou/dlib_ed8dc7823a2a40dd95b79fe720247b51/setup.py'\"'\"'; __file__='\"'\"'/private/var/folders/c5/wfrhzkhj1lnd3fzsc173k6qh0000gn/T/pip-install-a8h_boou/dlib_ed8dc7823a2a40dd95b79fe720247b51/setup.py'\"'\"';f = getattr(tokenize, '\"'\"'open'\"'\"', open)(__file__) if os.path.exists(__file__) else io.StringIO('\"'\"'from setuptools import setup; setup()'\"'\"');code = f.read().replace('\"'\"'\\r\\n'\"'\"', '\"'\"'\\n'\"'\"');f.close();exec(compile(code, __file__, '\"'\"'exec'\"'\"'))' bdist_wheel -d /private/var/folders/c5/wfrhzkhj1lnd3fzsc173k6qh0000gn/T/pip-wheel-apa3ya8v\n",
      "       cwd: /private/var/folders/c5/wfrhzkhj1lnd3fzsc173k6qh0000gn/T/pip-install-a8h_boou/dlib_ed8dc7823a2a40dd95b79fe720247b51/\n",
      "  Complete output (8 lines):\n",
      "  running bdist_wheel\n",
      "  running build\n",
      "  running build_py\n",
      "  package init file 'tools/python/dlib/__init__.py' not found (or not a regular file)\n",
      "  running build_ext\n",
      "  \n",
      "  ERROR: CMake must be installed to build dlib\n",
      "  \n",
      "  ----------------------------------------\u001B[0m\n",
      "\u001B[31m  ERROR: Failed building wheel for dlib\u001B[0m\n",
      "\u001B[?25h  Running setup.py clean for dlib\n",
      "  Building wheel for face-recognition-models (setup.py) ... \u001B[?25ldone\n",
      "\u001B[?25h  Created wheel for face-recognition-models: filename=face_recognition_models-0.3.0-py2.py3-none-any.whl size=100566185 sha256=db8f44ce765d302d0b6f2ca722a7519fad17e6bc002aac8431f67ed8391830b1\n",
      "  Stored in directory: /Users/berisha/Library/Caches/pip/wheels/22/a8/60/4a2aeb763d63f50190f4c4e07069a22245347eeafdb3a67551\n",
      "Successfully built face-recognition-models\n",
      "Failed to build dlib\n",
      "Installing collected packages: face-recognition-models, dlib, face-recognition\n",
      "    Running setup.py install for dlib ... \u001B[?25lerror\n",
      "\u001B[31m    ERROR: Command errored out with exit status 1:\n",
      "     command: /opt/anaconda3/bin/python -u -c 'import io, os, sys, setuptools, tokenize; sys.argv[0] = '\"'\"'/private/var/folders/c5/wfrhzkhj1lnd3fzsc173k6qh0000gn/T/pip-install-a8h_boou/dlib_ed8dc7823a2a40dd95b79fe720247b51/setup.py'\"'\"'; __file__='\"'\"'/private/var/folders/c5/wfrhzkhj1lnd3fzsc173k6qh0000gn/T/pip-install-a8h_boou/dlib_ed8dc7823a2a40dd95b79fe720247b51/setup.py'\"'\"';f = getattr(tokenize, '\"'\"'open'\"'\"', open)(__file__) if os.path.exists(__file__) else io.StringIO('\"'\"'from setuptools import setup; setup()'\"'\"');code = f.read().replace('\"'\"'\\r\\n'\"'\"', '\"'\"'\\n'\"'\"');f.close();exec(compile(code, __file__, '\"'\"'exec'\"'\"'))' install --record /private/var/folders/c5/wfrhzkhj1lnd3fzsc173k6qh0000gn/T/pip-record-iwzpzo8i/install-record.txt --single-version-externally-managed --compile --install-headers /opt/anaconda3/include/python3.9/dlib\n",
      "         cwd: /private/var/folders/c5/wfrhzkhj1lnd3fzsc173k6qh0000gn/T/pip-install-a8h_boou/dlib_ed8dc7823a2a40dd95b79fe720247b51/\n",
      "    Complete output (8 lines):\n",
      "    running install\n",
      "    running build\n",
      "    running build_py\n",
      "    package init file 'tools/python/dlib/__init__.py' not found (or not a regular file)\n",
      "    running build_ext\n",
      "    \n",
      "    ERROR: CMake must be installed to build dlib\n",
      "    \n",
      "    ----------------------------------------\u001B[0m\n",
      "\u001B[31mERROR: Command errored out with exit status 1: /opt/anaconda3/bin/python -u -c 'import io, os, sys, setuptools, tokenize; sys.argv[0] = '\"'\"'/private/var/folders/c5/wfrhzkhj1lnd3fzsc173k6qh0000gn/T/pip-install-a8h_boou/dlib_ed8dc7823a2a40dd95b79fe720247b51/setup.py'\"'\"'; __file__='\"'\"'/private/var/folders/c5/wfrhzkhj1lnd3fzsc173k6qh0000gn/T/pip-install-a8h_boou/dlib_ed8dc7823a2a40dd95b79fe720247b51/setup.py'\"'\"';f = getattr(tokenize, '\"'\"'open'\"'\"', open)(__file__) if os.path.exists(__file__) else io.StringIO('\"'\"'from setuptools import setup; setup()'\"'\"');code = f.read().replace('\"'\"'\\r\\n'\"'\"', '\"'\"'\\n'\"'\"');f.close();exec(compile(code, __file__, '\"'\"'exec'\"'\"'))' install --record /private/var/folders/c5/wfrhzkhj1lnd3fzsc173k6qh0000gn/T/pip-record-iwzpzo8i/install-record.txt --single-version-externally-managed --compile --install-headers /opt/anaconda3/include/python3.9/dlib Check the logs for full command output.\u001B[0m\n",
      "\u001B[?25hNote: you may need to restart the kernel to use updated packages.\n"
     ]
    }
   ],
   "source": [
    "pip install face_recognition"
   ]
  },
  {
   "cell_type": "code",
   "execution_count": null,
   "id": "2863e01c-6b66-4476-9c25-4a05cae117c9",
   "metadata": {
    "pycharm": {
     "name": "#%%\n"
    }
   },
   "outputs": [],
   "source": [
    "import face_recognition\n",
    "import imutils\n",
    "import pickle\n",
    "import time\n",
    "import cv2\n",
    "import os\n",
    " \n",
    "#find path of xml file containing haarcascade file\n",
    "cascPathface = os.path.dirname(\n",
    " cv2.__file__) + \"/data/haarcascade_frontalface_alt2.xml\"\n",
    "# load the harcaascade in the cascade classifier\n",
    "faceCascade = cv2.CascadeClassifier(cascPathface)\n",
    "# load the known faces and embeddings saved in last file\n",
    "data = pickle.loads(open('face_enc', \"rb\").read())\n",
    "#Find path to the image you want to detect face and pass it here\n",
    "image = cv2.imread(Path-to-img)\n",
    "rgb = cv2.cvtColor(image, cv2.COLOR_BGR2RGB)\n",
    "#convert image to Greyscale for haarcascade\n",
    "gray = cv2.cvtColor(image, cv2.COLOR_BGR2GRAY)\n",
    "faces = faceCascade.detectMultiScale(gray,\n",
    "                                     scaleFactor=1.1,\n",
    "                                     minNeighbors=5,\n",
    "                                     minSize=(60, 60),\n",
    "                                     flags=cv2.CASCADE_SCALE_IMAGE)\n",
    " \n",
    "# the facial embeddings for face in input\n",
    "encodings = face_recognition.face_encodings(rgb)\n",
    "names = []\n",
    "# loop over the facial embeddings incase\n",
    "# we have multiple embeddings for multiple fcaes\n",
    "for encoding in encodings:\n",
    "    #Compare encodings with encodings in data[\"encodings\"]\n",
    "    #Matches contain array with boolean values and True for the embeddings it matches closely\n",
    "    #and False for rest\n",
    "    matches = face_recognition.compare_faces(data[\"encodings\"],\n",
    "    encoding)\n",
    "    #set name =inknown if no encoding matches\n",
    "    name = \"Unknown\"\n",
    "    # check to see if we have found a match\n",
    "    if True in matches:\n",
    "        #Find positions at which we get True and store them\n",
    "        matchedIdxs = [i for (i, b) in enumerate(matches) if b]\n",
    "        counts = {}\n",
    "        # loop over the matched indexes and maintain a count for\n",
    "        # each recognized face face\n",
    "        for i in matchedIdxs:\n",
    "            #Check the names at respective indexes we stored in matchedIdxs\n",
    "            name = data[\"names\"][i]\n",
    "            #increase count for the name we got\n",
    "            counts[name] = counts.get(name, 0) + 1\n",
    "            #set name which has highest count\n",
    "            name = max(counts, key=counts.get)\n",
    " \n",
    " \n",
    "        # update the list of names\n",
    "        names.append(name)\n",
    "        # loop over the recognized faces\n",
    "        for ((x, y, w, h), name) in zip(faces, names):\n",
    "            # rescale the face coordinates\n",
    "            # draw the predicted face name on the image\n",
    "            cv2.rectangle(image, (x, y), (x + w, y + h), (0, 255, 0), 2)\n",
    "            cv2.putText(image, name, (x, y), cv2.FONT_HERSHEY_SIMPLEX,\n",
    "             0.75, (0, 255, 0), 2)\n",
    "    cv2.imshow(\"Frame\", image)\n",
    "    cv2.waitKey(0)"
   ]
  }
 ],
 "metadata": {
  "kernelspec": {
   "display_name": "Python 3 (ipykernel)",
   "language": "python",
   "name": "python3"
  },
  "language_info": {
   "codemirror_mode": {
    "name": "ipython",
    "version": 3
   },
   "file_extension": ".py",
   "mimetype": "text/x-python",
   "name": "python",
   "nbconvert_exporter": "python",
   "pygments_lexer": "ipython3",
   "version": "3.9.7"
  }
 },
 "nbformat": 4,
 "nbformat_minor": 5
}